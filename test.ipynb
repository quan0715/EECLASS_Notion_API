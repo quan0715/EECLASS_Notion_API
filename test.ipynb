{
 "cells": [
  {
   "cell_type": "code",
   "execution_count": 1,
   "metadata": {
    "collapsed": true
   },
   "outputs": [
    {
     "data": {
      "text/plain": "         備註    款項 出/入帳 付款方式   金額    品項\n0   打完球 吃零食    預算   出帳   現金   60    零食\n1    路易莎 美式    預算   出帳   現金   50   咖啡廳\n2       路易莎    預算   出帳   現金   68    咖啡\n3     儲值200    預算   出帳   現金  200   悠遊卡\n4     桃園→台北    預算   出帳  金融卡  155   高鐵票\n..      ...   ...  ...  ...  ...   ...\n61      吃找餐    預算   出帳   現金   70    早餐\n62     淡江大學    預算   出帳   現金  150   停車費\n63    立函心疼我  None   入帳  金融卡  100  立函補助\n64  中熱拿和熱可可    預算   出帳  金融卡   73    咖啡\n65    三芝咖啡廳  私人花費   出帳  金融卡  400   下午茶\n\n[66 rows x 6 columns]",
      "text/html": "<div>\n<style scoped>\n    .dataframe tbody tr th:only-of-type {\n        vertical-align: middle;\n    }\n\n    .dataframe tbody tr th {\n        vertical-align: top;\n    }\n\n    .dataframe thead th {\n        text-align: right;\n    }\n</style>\n<table border=\"1\" class=\"dataframe\">\n  <thead>\n    <tr style=\"text-align: right;\">\n      <th></th>\n      <th>備註</th>\n      <th>款項</th>\n      <th>出/入帳</th>\n      <th>付款方式</th>\n      <th>金額</th>\n      <th>品項</th>\n    </tr>\n  </thead>\n  <tbody>\n    <tr>\n      <th>0</th>\n      <td>打完球 吃零食</td>\n      <td>預算</td>\n      <td>出帳</td>\n      <td>現金</td>\n      <td>60</td>\n      <td>零食</td>\n    </tr>\n    <tr>\n      <th>1</th>\n      <td>路易莎 美式</td>\n      <td>預算</td>\n      <td>出帳</td>\n      <td>現金</td>\n      <td>50</td>\n      <td>咖啡廳</td>\n    </tr>\n    <tr>\n      <th>2</th>\n      <td>路易莎</td>\n      <td>預算</td>\n      <td>出帳</td>\n      <td>現金</td>\n      <td>68</td>\n      <td>咖啡</td>\n    </tr>\n    <tr>\n      <th>3</th>\n      <td>儲值200</td>\n      <td>預算</td>\n      <td>出帳</td>\n      <td>現金</td>\n      <td>200</td>\n      <td>悠遊卡</td>\n    </tr>\n    <tr>\n      <th>4</th>\n      <td>桃園→台北</td>\n      <td>預算</td>\n      <td>出帳</td>\n      <td>金融卡</td>\n      <td>155</td>\n      <td>高鐵票</td>\n    </tr>\n    <tr>\n      <th>...</th>\n      <td>...</td>\n      <td>...</td>\n      <td>...</td>\n      <td>...</td>\n      <td>...</td>\n      <td>...</td>\n    </tr>\n    <tr>\n      <th>61</th>\n      <td>吃找餐</td>\n      <td>預算</td>\n      <td>出帳</td>\n      <td>現金</td>\n      <td>70</td>\n      <td>早餐</td>\n    </tr>\n    <tr>\n      <th>62</th>\n      <td>淡江大學</td>\n      <td>預算</td>\n      <td>出帳</td>\n      <td>現金</td>\n      <td>150</td>\n      <td>停車費</td>\n    </tr>\n    <tr>\n      <th>63</th>\n      <td>立函心疼我</td>\n      <td>None</td>\n      <td>入帳</td>\n      <td>金融卡</td>\n      <td>100</td>\n      <td>立函補助</td>\n    </tr>\n    <tr>\n      <th>64</th>\n      <td>中熱拿和熱可可</td>\n      <td>預算</td>\n      <td>出帳</td>\n      <td>金融卡</td>\n      <td>73</td>\n      <td>咖啡</td>\n    </tr>\n    <tr>\n      <th>65</th>\n      <td>三芝咖啡廳</td>\n      <td>私人花費</td>\n      <td>出帳</td>\n      <td>金融卡</td>\n      <td>400</td>\n      <td>下午茶</td>\n    </tr>\n  </tbody>\n</table>\n<p>66 rows × 6 columns</p>\n</div>"
     },
     "execution_count": 1,
     "metadata": {},
     "output_type": "execute_result"
    }
   ],
   "source": [
    "from PyNotion import *\n",
    "import pandas as pd\n",
    "from PyNotion.NotionClient import Notion\n",
    "AUTH = \"secret_8JtNxNiUCCWPRhFqzl1e2juzxoz96dyjYWubDLbNchy\"\n",
    "notion = Notion(AUTH)\n",
    "d = notion.fetch_databases(\"記帳表\")\n",
    "df = pd.DataFrame(d.results)\n",
    "df"
   ]
  },
  {
   "cell_type": "code",
   "execution_count": null,
   "outputs": [],
   "source": [],
   "metadata": {
    "collapsed": false,
    "pycharm": {
     "name": "#%%\n"
    }
   }
  }
 ],
 "metadata": {
  "kernelspec": {
   "display_name": "Python 3",
   "language": "python",
   "name": "python3"
  },
  "language_info": {
   "codemirror_mode": {
    "name": "ipython",
    "version": 2
   },
   "file_extension": ".py",
   "mimetype": "text/x-python",
   "name": "python",
   "nbconvert_exporter": "python",
   "pygments_lexer": "ipython2",
   "version": "2.7.6"
  }
 },
 "nbformat": 4,
 "nbformat_minor": 0
}